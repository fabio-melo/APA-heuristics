{
 "cells": [
  {
   "cell_type": "code",
   "execution_count": 12,
   "metadata": {
    "ExecuteTime": {
     "end_time": "2018-05-30T23:08:44.845168Z",
     "start_time": "2018-05-30T23:08:44.825180Z"
    },
    "hide_input": true
   },
   "outputs": [],
   "source": [
    "import sys, random, json\n",
    "\n",
    "class Item:\n",
    "    def __init__(self, size, value):\n",
    "        self.size = size\n",
    "        self.value = value\n",
    "\n",
    "class Box:\n",
    "    def __init__(self, size=1000):\n",
    "        self.total_size = size\n",
    "        self.used_size = 0\n",
    "        self.total_value = 0\n",
    "        self.items = []\n",
    "    \n",
    "    def add_item(self, item):\n",
    "        self.items.append(item)\n",
    "        self.used_size += item.size\n",
    "        self.total_value += item.value\n",
    "\n",
    "    def can_add(self, item):\n",
    "        return True if self.used_size + item.size <= self.total_size else False\n",
    "\n",
    "    def can_add_without_tax(self, item, min_tax):\n",
    "        return True if self.used_size + item.size <= self.total_size and self.total_value + item.value <= min_tax else False\n",
    "\n",
    "    def profit_per_box(self, base_box_cost=5, box_rate=0.0001, tax_rate=10, min_tax=50):\n",
    "        box_cost = int(base_box_cost + (box_rate * self.total_size))\n",
    "        print(box_cost)\n",
    "        if self.total_value <= min_tax:\n",
    "          #  print(\"here\")\n",
    "            profit = self.total_value - box_cost\n",
    "            print(\"sem taxa: Custo \" + str(self.box_cost) + \" Tamanho: \"+ str(self.used_size) + str(profit))\n",
    "        else:\n",
    "           # print(\"there\")\n",
    "            taxation = (self.total_value / 100) * tax_rate\n",
    "            profit = self.total_value - int(taxation) - box_cost\n",
    "            print(\"taxado: \"+ str(taxation) + \"-\" + str(self.total_value) + \"= \" + str(profit))\n",
    "        return profit\n",
    "\n",
    "#----------------------------#\n",
    "# Funções Auxiliares         #\n",
    "#----------------------------#\n",
    "\n",
    "def generate_item_list(amount=100, max_size=1000, max_value=100,savefile=False):\n",
    "    packing_list = []\n",
    "    for _ in range(amount):\n",
    "        item_packed = Item(random.randint(1, max_size),random.randint(1, max_value))\n",
    "        packing_list.append(item_packed)\n",
    "    if savefile: save_to_file(packing_list, file=savefile)\n",
    "    return packing_list\n",
    "\n",
    "\n",
    "def generate_pareto_list(amount=100, medium_value=50, medium_size=300, max_size=1000, max_value=100,verbose=False,savefile=False):\n",
    "    packing_list = []\n",
    "    percent20, percent80 = int((amount/100)*20), int((amount/100)*80)\n",
    "    for _ in range(percent80):\n",
    "        item_packed = Item(random.randint(1, medium_size),random.randint(1, medium_value))\n",
    "        packing_list.append(item_packed)\n",
    "    for _ in range(percent20):\n",
    "        item_packed = Item(random.randint(medium_size, max_size),random.randint(medium_value, max_value))\n",
    "        packing_list.append(item_packed)\n",
    "    if verbose: \n",
    "        for i in packing_list: print(str(i.value),str(i.size))\n",
    "\n",
    "    if savefile: save_to_file(packing_list, file=savefile)\n",
    "    return packing_list\n",
    "\n",
    "def save_to_file(pack, file='instance.txt'):\n",
    "    packlist = []\n",
    "    for p in pack:\n",
    "        item = [p.size, p.value]\n",
    "        packlist.append(item)\n",
    "    with open(file, 'w') as f: json.dump(packlist, f)\n",
    "\n",
    "def load_from_file(file):\n",
    "    with open(file, 'r') as f:\n",
    "        packlist = []\n",
    "        unpack = json.load(f)\n",
    "        for u in unpack:\n",
    "            new_item = Item(size=u[0],value=u[1])\n",
    "            packlist.append(new_item)\n",
    "        return packlist"
   ]
  },
  {
   "cell_type": "code",
   "execution_count": 2,
   "metadata": {
    "ExecuteTime": {
     "end_time": "2018-05-30T23:03:47.465118Z",
     "start_time": "2018-05-30T23:03:47.447129Z"
    },
    "hide_input": false
   },
   "outputs": [],
   "source": [
    "import sys, random\n",
    "from operator import itemgetter, attrgetter\n",
    "from data import Item, Box\n",
    "\n",
    "def fit(items, fit='first', sortedlist=False, box_size=1000, verbose=False, min_tax=50):\n",
    "    \n",
    "    # ordem da lista \n",
    "    if sortedlist: items = sorted(items,key=attrgetter('size'), reverse=True)\n",
    "    if sortedlist == 'cheapest': items = sorted(items,key=attrgetter('value'))\n",
    "    if sortedlist == 'expensive': items = sorted(items,key=attrgetter('value'), reverse=True)\n",
    "\n",
    "    boxes = []\n",
    "\n",
    "    if fit in (\"first\", \"best\", \"worst\"):\n",
    "        for item in items:\n",
    "            if fit == 'best' and boxes: boxes = sorted(boxes, key=attrgetter('used_size'))\n",
    "            if fit == 'worst' and boxes: boxes = sorted(boxes, reverse=True, key=attrgetter('used_size'))        \n",
    "            \n",
    "            for b in boxes:\n",
    "                if b and b.can_add(item): b.add_item(item); break\n",
    "            else:\n",
    "                new_box = Box(box_size)\n",
    "                boxes.append(new_box)\n",
    "\n",
    "    elif fit in (\"avoidtaxes\"):\n",
    "        cheaper_items, expensive_items = [], []\n",
    "        cheap_boxes, expensive_boxes = [],[]\n",
    "        for item in items:\n",
    "            if item.value <= min_tax:\n",
    "                cheaper_items.append(item)\n",
    "            else: \n",
    "                expensive_items.append(item)\n",
    "\n",
    "        for item in cheaper_items:\n",
    "            for b in cheap_boxes:\n",
    "                if b and b.can_add_without_tax(item,min_tax) and b.used_size <= min_tax: b.add_item(item); break\n",
    "            else:\n",
    "                new_box = Box(box_size)\n",
    "                cheap_boxes.append(new_box)\n",
    "        for item in expensive_items:\n",
    "            for b in expensive_boxes:\n",
    "                if b and b.can_add(item): b.add_item(item);# break\n",
    "            else:\n",
    "                new_box = Box(box_size)\n",
    "                expensive_boxes.append(new_box)\n",
    "        boxes = cheap_boxes + expensive_boxes\n",
    "\n",
    "    if verbose: \n",
    "        print(str(fit) + \" fit: \" + str(sortedlist) + ' ' + str(len(boxes)))\n",
    "        for b in boxes: print(str(b.used_size) + '-' + str(b.total_value),end='|')\n",
    "        print()\n",
    "\n",
    "    return boxes\n",
    "\n"
   ]
  },
  {
   "cell_type": "code",
   "execution_count": 3,
   "metadata": {
    "ExecuteTime": {
     "end_time": "2018-05-30T23:03:49.244735Z",
     "start_time": "2018-05-30T23:03:49.227728Z"
    },
    "hide_input": true
   },
   "outputs": [],
   "source": [
    "#------------------------------#\n",
    "# Testes                #\n",
    "#------------------------------#\n",
    "\n",
    "from heuristic import fit\n",
    "from operator import itemgetter, attrgetter\n",
    "from data import Item, Box, generate_item_list, generate_pareto_list, load_from_file\n",
    "from sys import argv\n",
    "\n",
    "def calc_profit(box, tax, min_t=50):\n",
    "    temp = []\n",
    "    for b in box:\n",
    "        temp.append(b.profit_per_box(tax_rate=tax,min_tax=min_t))\n",
    "    return sum(temp)\n",
    "\n",
    "def stresstest(itemgen=None, file=None):\n",
    "\n",
    "    if itemgen == 'normal': my_items = generate_item_list(amount=100,max_size=1000,max_value=100)\n",
    "    elif itemgen == 'pareto': my_items = generate_pareto_list(amount=100, medium_size=400, medium_value=50, max_size=1000,max_value=100)\n",
    "    else: my_items = load_from_file(file)\n",
    "    totalitemvalue = 0\n",
    "    for i in my_items: totalitemvalue += i.value\n",
    "    print(totalitemvalue)\n",
    "\n",
    "    testtaxrate = [0,10,20,30,40,50,60]\n",
    "    fit_option = ['first','best','worst','avoidtaxes']\n",
    "    sort_option = [True, False, 'cheapest', 'expensive']\n",
    "\n",
    "    for t in testtaxrate:\n",
    "        results = {}\n",
    "        print(\"TAX RATE: \" + str(t), end=' ')\n",
    "        for f in fit_option:\n",
    "            for s in sort_option:\n",
    "                mybox = fit(my_items,fit=f,sortedlist=s,verbose=False)\n",
    "                l = len(mybox)\n",
    "                n = fit_option.index(f) + (sort_option.index(s)*10)\n",
    "                results[f,s,l,n] = calc_profit(mybox, t)\n",
    "                \n",
    "        for k, v in sorted(results.items(), key=itemgetter(1), reverse=True):\n",
    "            print(str(k), str(v));#break\n",
    "    #return results\n",
    "\n",
    "if __name__ == '__main__':\n",
    "    if '--random-gen' in argv: generate_item_list(amount=200,max_size=1000,max_value=100,savefile='random.txt');print(\"Lista Aleatória Gerada\")\n",
    "    if '--pareto-gen' in argv: generate_pareto_list(amount=200, medium_size=400, medium_value=50, max_size=1000,max_value=100,savefile='pareto.txt')\n",
    "    if '--stress' in argv: stresstest(file=argv[2])\n",
    "    \n",
    "    #stresstest('pareto')\n",
    "    #stresstest('normal')"
   ]
  },
  {
   "cell_type": "code",
   "execution_count": null,
   "metadata": {
    "ExecuteTime": {
     "end_time": "2018-05-30T23:02:01.184831Z",
     "start_time": "2018-05-30T23:02:01.039917Z"
    },
    "scrolled": true
   },
   "outputs": [],
   "source": [
    "stresstest('pareto')"
   ]
  },
  {
   "cell_type": "code",
   "execution_count": null,
   "metadata": {
    "ExecuteTime": {
     "end_time": "2018-05-30T03:04:08.618729Z",
     "start_time": "2018-05-30T03:04:08.448829Z"
    }
   },
   "outputs": [],
   "source": [
    "stresstest('normal')"
   ]
  },
  {
   "cell_type": "code",
   "execution_count": 14,
   "metadata": {
    "ExecuteTime": {
     "end_time": "2018-05-30T23:08:58.888232Z",
     "start_time": "2018-05-30T23:08:58.882233Z"
    }
   },
   "outputs": [
    {
     "name": "stdout",
     "output_type": "stream",
     "text": [
      "5\n",
      "taxado: 8.0-80= 67\n",
      "67\n"
     ]
    }
   ],
   "source": [
    "somebox = Box()\n",
    "somebox.user_size = 500\n",
    "somebox.total_value = 80\n",
    "\n",
    "print(somebox.profit_per_box())"
   ]
  },
  {
   "cell_type": "code",
   "execution_count": null,
   "metadata": {},
   "outputs": [],
   "source": []
  },
  {
   "cell_type": "code",
   "execution_count": null,
   "metadata": {},
   "outputs": [],
   "source": []
  }
 ],
 "metadata": {
  "hide_input": false,
  "kernelspec": {
   "display_name": "Python 3",
   "language": "python",
   "name": "python3"
  },
  "language_info": {
   "codemirror_mode": {
    "name": "ipython",
    "version": 3
   },
   "file_extension": ".py",
   "mimetype": "text/x-python",
   "name": "python",
   "nbconvert_exporter": "python",
   "pygments_lexer": "ipython3",
   "version": "3.6.5"
  },
  "varInspector": {
   "cols": {
    "lenName": 16,
    "lenType": 16,
    "lenVar": 40
   },
   "kernels_config": {
    "python": {
     "delete_cmd_postfix": "",
     "delete_cmd_prefix": "del ",
     "library": "var_list.py",
     "varRefreshCmd": "print(var_dic_list())"
    },
    "r": {
     "delete_cmd_postfix": ") ",
     "delete_cmd_prefix": "rm(",
     "library": "var_list.r",
     "varRefreshCmd": "cat(var_dic_list()) "
    }
   },
   "types_to_exclude": [
    "module",
    "function",
    "builtin_function_or_method",
    "instance",
    "_Feature"
   ],
   "window_display": false
  }
 },
 "nbformat": 4,
 "nbformat_minor": 2
}
